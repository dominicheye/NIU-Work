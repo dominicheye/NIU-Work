{
 "cells": [
  {
   "cell_type": "markdown",
   "source": [
    "# Assignment 3 (Dominic Heye, Z1841746)"
   ],
   "metadata": {}
  },
  {
   "cell_type": "code",
   "execution_count": 46,
   "source": [
    "# Do not modify this cell, just run it to download and load the dataset\r\n",
    "\r\n",
    "import os\r\n",
    "import json\r\n",
    "from urllib.request import urlretrieve\r\n",
    "\r\n",
    "# download the data if we don't have it locally\r\n",
    "url = \"http://faculty.cs.niu.edu/~dakoop/cs503-2021fa/a3/senate-stock-trades.json\"\r\n",
    "local_fname = \"senate-stock-trades.json\"\r\n",
    "if not os.path.exists(local_fname):\r\n",
    "    urlretrieve(url, local_fname)\r\n",
    "\r\n",
    "data = json.load(open(local_fname));"
   ],
   "outputs": [],
   "metadata": {}
  },
  {
   "cell_type": "markdown",
   "source": [
    "# Part 1 "
   ],
   "metadata": {}
  },
  {
   "cell_type": "code",
   "execution_count": 47,
   "source": [
    "# \r\n",
    "ownerTypes = set()\r\n",
    "\r\n",
    "for index in range(len(data)):\r\n",
    "    x = data[index].get('owner')\r\n",
    "    ownerTypes.add(x)\r\n",
    "\r\n",
    "ownerTypes\r\n"
   ],
   "outputs": [
    {
     "output_type": "execute_result",
     "data": {
      "text/plain": [
       "{'Child', 'Joint', 'Self', 'Spouse'}"
      ]
     },
     "metadata": {},
     "execution_count": 47
    }
   ],
   "metadata": {
    "tags": []
   }
  },
  {
   "cell_type": "markdown",
   "source": [
    "# Part 2"
   ],
   "metadata": {}
  },
  {
   "cell_type": "code",
   "execution_count": 48,
   "source": [
    "highestAmount = 0\r\n",
    "\r\n",
    "\r\n",
    "for index in range(len(data)):\r\n",
    "    x = data[index].get('amount_range')\r\n",
    "\r\n",
    "    if x[0] is not None:\r\n",
    "        if(x[0] > highestAmount):\r\n",
    "            highestAmount = x[0]\r\n",
    "            senator = data[index].get('senator')\r\n",
    "    \r\n",
    "    if x[1] is not None:\r\n",
    "        if(x[1] > highestAmount):\r\n",
    "            highestAmount = x[1]\r\n",
    "            senator = data[index].get('senator')\r\n",
    "\r\n",
    "print(\"Highest amount:\",highestAmount)\r\n",
    "print(\"Senator involved:\", senator)\r\n"
   ],
   "outputs": [
    {
     "output_type": "stream",
     "name": "stdout",
     "text": [
      "Highest amount: 50000001\n",
      "Senator involved: James M Inhofe\n"
     ]
    }
   ],
   "metadata": {
    "tags": []
   }
  },
  {
   "cell_type": "markdown",
   "source": [
    "# Part 3"
   ],
   "metadata": {}
  },
  {
   "cell_type": "code",
   "execution_count": 49,
   "source": [
    "senatorDict = {}\r\n",
    "\r\n",
    "i = 0\r\n",
    "\r\n",
    "for index in range(len(data)):\r\n",
    "    x = data[index].get('type')\r\n",
    "    if x == 'Sale (Full)' or 'Sale (Partial)':\r\n",
    "        senatorName = data[index].get('senator')\r\n",
    "        if senatorName == None:\r\n",
    "            senatorName = 'No Name Provided'\r\n",
    "        if senatorName in senatorDict:\r\n",
    "            y = senatorDict[senatorName]\r\n",
    "            y = y + 1\r\n",
    "            temp = {senatorName: y}\r\n",
    "            senatorDict.update(temp)\r\n",
    "        else:\r\n",
    "            senatorDict[senatorName] = 1\r\n",
    "senatorDict"
   ],
   "outputs": [
    {
     "output_type": "execute_result",
     "data": {
      "text/plain": [
       "{'Shelley M Capito': 378,\n",
       " 'A. Mitchell Mcconnell, Jr.': 21,\n",
       " 'Sheldon Whitehouse': 529,\n",
       " 'Patrick J Toomey': 173,\n",
       " 'Thomas H Tuberville': 185,\n",
       " 'Mark R Warner': 46,\n",
       " 'Thomas R Carper': 847,\n",
       " 'Christopher A Coons': 25,\n",
       " 'Roger W Marshall': 1,\n",
       " 'John Hoeven': 187,\n",
       " 'Rand Paul': 1,\n",
       " 'John W Hickenlooper': 12,\n",
       " 'Gary C Peters': 140,\n",
       " 'Angus S King, Jr.': 69,\n",
       " 'Susan M Collins': 154,\n",
       " 'Michael F Bennet': 8,\n",
       " 'Ron L Wyden': 251,\n",
       " 'William F Hagerty, Iv': 14,\n",
       " 'Rick Scott': 152,\n",
       " 'Mike Rounds': 10,\n",
       " 'Jerry Moran,': 139,\n",
       " 'Tina Smith': 24,\n",
       " 'John Boozman': 2,\n",
       " 'Ladda Tammy Duckworth': 7,\n",
       " 'Daniel S Sullivan': 27,\n",
       " 'James M Inhofe': 229,\n",
       " 'Pat Roberts': 415,\n",
       " 'Jacklyn S Rosen': 5,\n",
       " 'William Cassidy': 166,\n",
       " 'David A Perdue , Jr': 2597,\n",
       " 'Kelly Loeffler': 279,\n",
       " 'Timothy M Kaine': 3,\n",
       " 'Jeanne Shaheen': 3,\n",
       " 'Ron Johnson': 2,\n",
       " 'Roger F Wicker': 8,\n",
       " 'Lamar Alexander': 59,\n",
       " 'Roy Blunt': 4,\n",
       " 'John N Kennedy': 2,\n",
       " 'Rafael E Cruz': 8,\n",
       " 'Thomas Udall': 2,\n",
       " 'John F Reed': 201,\n",
       " 'Thomas R Tillis': 99,\n",
       " 'John A Barrasso': 1,\n",
       " 'Robert P Casey, Jr.': 1,\n",
       " 'Robert J Portman': 9,\n",
       " 'Benjamin L Cardin': 4,\n",
       " 'Tammy Duckworth': 15,\n",
       " 'Joseph Manchin, Iii': 12,\n",
       " 'Michael D Crapo': 1,\n",
       " 'Patty Murray': 161,\n",
       " 'Steve Daines': 1,\n",
       " 'Chris Van Hollen': 7,\n",
       " 'John Cornyn': 2,\n",
       " 'Maria Cantwell': 1,\n",
       " 'Michael  B Enzi': 5}"
      ]
     },
     "metadata": {},
     "execution_count": 49
    }
   ],
   "metadata": {}
  },
  {
   "cell_type": "markdown",
   "source": [
    "# Part 4"
   ],
   "metadata": {}
  },
  {
   "cell_type": "code",
   "execution_count": 50,
   "source": [
    "senatorRangeDict = {}\r\n",
    "\r\n",
    "for index in range(len(data)):\r\n",
    "    x = data[index].get('type')\r\n",
    "    if x == 'Sale (Full)' or 'Sale (Partial)':\r\n",
    "        senatorName = data[index].get('senator')\r\n",
    "        y = data[index].get('amount_range')\r\n",
    "\r\n",
    "        if y[1] is not None:\r\n",
    "            if senatorName in senatorRangeDict:\r\n",
    "                z = senatorRangeDict.get(senatorName)\r\n",
    "                if z[1] is not None:\r\n",
    "                    newSet = [z[0] + y[0], z[1] + y[1]]\r\n",
    "                else:\r\n",
    "                    newSet = [z[0]+ y[0], None]\r\n",
    "                temp = {senatorName: newSet}\r\n",
    "                senatorRangeDict.update(temp)\r\n",
    "            else:\r\n",
    "                senatorRangeDict[senatorName] = y\r\n",
    "            \r\n",
    "        else:\r\n",
    "            if senatorName in senatorRangeDict:\r\n",
    "                z = senatorRangeDict.get(senatorName)\r\n",
    "                newSet = [z[0] + y[0], None]\r\n",
    "                temp = {senatorName: newSet}\r\n",
    "                senatorRangeDict.update(temp)\r\n",
    "            else:\r\n",
    "                senatorRangeDict[senatorName] = y\r\n",
    "\r\n",
    "senatorRangeDict    \r\n",
    "        "
   ],
   "outputs": [
    {
     "output_type": "execute_result",
     "data": {
      "text/plain": [
       "{'Shelley M Capito': [786378, 6665000],\n",
       " 'A. Mitchell Mcconnell, Jr.': [631021, 1490000],\n",
       " 'Sheldon Whitehouse': [2272529, 12255000],\n",
       " 'Patrick J Toomey': [1231173, 5190000],\n",
       " 'Thomas H Tuberville': [1519185, 5685000],\n",
       " 'Mark R Warner': [12256046, 46015000],\n",
       " 'Thomas R Carper': [2401847, 16515000],\n",
       " 'Christopher A Coons': [3060025, 6450000],\n",
       " 'Roger W Marshall': [250001, 500000],\n",
       " 'John Hoeven': [22333187, 77920000],\n",
       " 'Rand Paul': [1001, 15000],\n",
       " 'John W Hickenlooper': [301012, 840000],\n",
       " 'Gary C Peters': [504140, 3010000],\n",
       " 'Angus S King, Jr.': [426069, 1890000],\n",
       " 'Susan M Collins': [51861154, 106015000],\n",
       " 'Michael F Bennet': [2001008, 4115000],\n",
       " 'Ron L Wyden': [6208251, 16070000],\n",
       " 'William F Hagerty, Iv': [515014, 1175000],\n",
       " 'Rick Scott': [72452152, 221530000],\n",
       " 'Mike Rounds': [5696010, 26465000],\n",
       " 'Jerry Moran,': [237139, 2330000],\n",
       " 'Tina Smith': [2193024, 4895000],\n",
       " 'John Boozman': [2002, 30000],\n",
       " 'Ladda Tammy Duckworth': [21007, 140000],\n",
       " 'Daniel S Sullivan': [689027, 1660000],\n",
       " 'James M Inhofe': [57559229, None],\n",
       " 'Pat Roberts': [5486415, 17240000],\n",
       " 'Jacklyn S Rosen': [19005, 110000],\n",
       " 'William Cassidy': [194166, 2560000],\n",
       " 'David A Perdue , Jr': [34297597, 115200000],\n",
       " 'Kelly Loeffler': [45267279, 183980000],\n",
       " 'Timothy M Kaine': [31003, 115000],\n",
       " 'Jeanne Shaheen': [116003, 315000],\n",
       " 'Ron Johnson': [5100002, 25250000],\n",
       " 'Roger F Wicker': [50008, 225000],\n",
       " 'Lamar Alexander': [4165059, 12000000],\n",
       " 'Roy Blunt': [53004, 145000],\n",
       " 'John N Kennedy': [2002, 30000],\n",
       " 'Rafael E Cruz': [211008, 515000],\n",
       " 'Thomas Udall': [2002, 30000],\n",
       " 'John F Reed': [257201, 3155000],\n",
       " 'Thomas R Tillis': [127099, 1555000],\n",
       " 'John A Barrasso': [50001, 100000],\n",
       " 'Robert P Casey, Jr.': [1001, 15000],\n",
       " 'Robert J Portman': [700009, 1650000],\n",
       " 'Benjamin L Cardin': [130004, 300000],\n",
       " 'Tammy Duckworth': [29015, 260000],\n",
       " 'Joseph Manchin, Iii': [75012, 300000],\n",
       " 'Michael D Crapo': [50001, 100000],\n",
       " 'Patty Murray': [161161, 2415000],\n",
       " 'Steve Daines': [15001, 50000],\n",
       " 'Chris Van Hollen': [35007, 175000],\n",
       " 'John Cornyn': [30002, 100000],\n",
       " 'Maria Cantwell': [1001, 15000],\n",
       " 'Michael  B Enzi': [33005, 145000]}"
      ]
     },
     "metadata": {},
     "execution_count": 50
    }
   ],
   "metadata": {}
  },
  {
   "cell_type": "markdown",
   "source": [
    "# Part 5"
   ],
   "metadata": {}
  },
  {
   "cell_type": "code",
   "execution_count": 51,
   "source": [
    "def get_ticker_median(ticker):\r\n",
    "    tickerList = []\r\n",
    "    for index in range(len(data)):\r\n",
    "        x = data[index].get('ticker')\r\n",
    "        if x == ticker:\r\n",
    "            y = data[index].get('amount_range')\r\n",
    "            tickerList.append(y)\r\n",
    "    \r\n",
    "    tickerList.sort()\r\n",
    "    a = len(tickerList)\r\n",
    "\r\n",
    "    b = a % 2\r\n",
    "    if b == 1: #number is odd\r\n",
    "        a = a/2 - .5\r\n",
    "        return tickerList[int(a)]\r\n",
    "\r\n",
    "    else:\r\n",
    "        a = a//2\r\n",
    "        temp1 = tickerList[a]\r\n",
    "        temp2 = tickerList[a-1]\r\n",
    "        newList = [temp2[0], temp1[1]]\r\n",
    "        return newList"
   ],
   "outputs": [],
   "metadata": {}
  },
  {
   "cell_type": "code",
   "execution_count": 52,
   "source": [
    "get_ticker_median('AAPL')"
   ],
   "outputs": [
    {
     "output_type": "execute_result",
     "data": {
      "text/plain": [
       "[1001, 15000]"
      ]
     },
     "metadata": {},
     "execution_count": 52
    }
   ],
   "metadata": {}
  },
  {
   "cell_type": "code",
   "execution_count": 53,
   "source": [
    "get_ticker_median('NVDA')"
   ],
   "outputs": [
    {
     "output_type": "execute_result",
     "data": {
      "text/plain": [
       "[15001, 50000]"
      ]
     },
     "metadata": {},
     "execution_count": 53
    }
   ],
   "metadata": {}
  }
 ],
 "metadata": {
  "kernelspec": {
   "name": "python3",
   "display_name": "Python 3.8.8 64-bit ('base': conda)"
  },
  "language_info": {
   "codemirror_mode": {
    "name": "ipython",
    "version": 3
   },
   "file_extension": ".py",
   "mimetype": "text/x-python",
   "name": "python",
   "nbconvert_exporter": "python",
   "pygments_lexer": "ipython3",
   "version": "3.8.8"
  },
  "interpreter": {
   "hash": "fbdd1e1debc0b9f31c09b565c5d33d060886fc2331dbc4efdbe1b2561e5b68b7"
  }
 },
 "nbformat": 4,
 "nbformat_minor": 4
}