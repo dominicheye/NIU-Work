{
 "cells": [
  {
   "cell_type": "markdown",
   "metadata": {},
   "source": [
    "# Assignment 6"
   ]
  },
  {
   "cell_type": "markdown",
   "metadata": {},
   "source": [
    "Dominic Heye Z1841746"
   ]
  },
  {
   "cell_type": "markdown",
   "metadata": {},
   "source": [
    "# Part 1"
   ]
  },
  {
   "cell_type": "code",
   "execution_count": 318,
   "metadata": {},
   "outputs": [],
   "source": [
    "class Academic:\n",
    "    def __init__(self,zid, first_name, last_name, max_credits):\n",
    "        self.zid = zid\n",
    "        self.first_name = first_name\n",
    "        self.last_name = last_name\n",
    "        self.max_credits = max_credits  \n",
    "        "
   ]
  },
  {
   "cell_type": "code",
   "execution_count": 319,
   "metadata": {},
   "outputs": [],
   "source": [
    "class Student(Academic):\n",
    "    def __init__(self, zid, first_name, last_name, year):\n",
    "        self.level = year\n",
    "        super().__init__(zid, first_name, last_name, 16)"
   ]
  },
  {
   "cell_type": "code",
   "execution_count": 320,
   "metadata": {},
   "outputs": [],
   "source": [
    "class GraduateStudent(Academic):\n",
    "    def __init__(self, zid, first_name, last_name):\n",
    "        self.level = \"Graduate\"\n",
    "        super().__init__(zid, first_name, last_name,12)\n",
    "        "
   ]
  },
  {
   "cell_type": "code",
   "execution_count": 321,
   "metadata": {},
   "outputs": [],
   "source": [
    "class Instructor(Academic):\n",
    "    def __init__(self, zid, first_name, last_name, title):\n",
    "        self.level = title\n",
    "        super().__init__(zid, first_name, last_name, 9)"
   ]
  },
  {
   "cell_type": "markdown",
   "metadata": {},
   "source": [
    "# Part 2 "
   ]
  },
  {
   "cell_type": "code",
   "execution_count": 322,
   "metadata": {},
   "outputs": [],
   "source": [
    "class Course:\n",
    "    def __init__(self, department, course_number, course_name, section, credit_number, times):\n",
    "        self.department = department\n",
    "        self.course_number = course_number\n",
    "        self.course_name = course_name\n",
    "        self.section = section\n",
    "        self.credit_hours = credit_number\n",
    "        self.times = times\n",
    "        self.students = []\n",
    "        self.instructor = \"Unassigned\"\n",
    "    \n",
    "    def change_time(self, new_time):\n",
    "        self.times = new_time\n",
    "\n",
    "    def enroll(self, new_student):\n",
    "        self.students.append(new_student)\n",
    "\n",
    "    def drop(self, student):\n",
    "        self.students.remove(student)\n",
    "\n",
    "    def __str__(self):\n",
    "        return f'{self.department} {self.course_number} {self.section} {self.times}'"
   ]
  },
  {
   "cell_type": "markdown",
   "metadata": {},
   "source": [
    "# Part 3"
   ]
  },
  {
   "cell_type": "code",
   "execution_count": 323,
   "metadata": {},
   "outputs": [],
   "source": [
    "class Schedule:\n",
    "    def __init__(self):\n",
    "        self.courses = []\n",
    "        self._credits = 0\n",
    "\n",
    "    @property    \n",
    "    def credits(self):\n",
    "        self._credits = 0\n",
    "        for i in self.courses:\n",
    "            self._credits = self._credits + int(i.credit_hours)\n",
    "        return self._credits\n",
    "    \n",
    "    def add_course(self, course):\n",
    "        self.courses.append(course)\n",
    "    \n",
    "    def remove_course(self, course):\n",
    "        self.courses.remove(course)\n",
    "    \n",
    "    def __add__(self, right):\n",
    "        self.courses.append(right)\n",
    "\n",
    "    def __sub__(self, right):\n",
    "        self.courses.remove(right)\n"
   ]
  },
  {
   "cell_type": "code",
   "execution_count": 324,
   "metadata": {},
   "outputs": [],
   "source": [
    "class Academic:\n",
    "    def __init__(self,zid, first_name, last_name, max_credits):\n",
    "        self.zid = zid\n",
    "        self.first_name = first_name\n",
    "        self.last_name = last_name\n",
    "        self.max_credits = max_credits  \n",
    "        self.schedule = Schedule()\n",
    "\n",
    "    def add_course(self, course):\n",
    "        if (self.schedule.credits + course.credit_hours) < (self.max_credits + 1):\n",
    "            self.schedule.add_course(course)\n",
    "        else:\n",
    "            print(\"Max credit amount exceeded\")\n",
    "            raise ValueError\n",
    "\n",
    "        \n",
    "    def remove_course(self, course):\n",
    "        self.schedule.remove_course(course)"
   ]
  },
  {
   "cell_type": "code",
   "execution_count": 325,
   "metadata": {},
   "outputs": [],
   "source": [
    "class Student(Academic):\n",
    "    def __init__(self, zid, first_name, last_name, year):\n",
    "        self.level = year\n",
    "        super().__init__(zid, first_name, last_name, 16)\n",
    "\n",
    "    def add_course(self, course):\n",
    "        super().add_course(course)\n",
    "        course.enroll(self)\n",
    "        \n",
    "    def remove_course(self, course):\n",
    "        super().remove_course(course)\n",
    "        course.drop(self)"
   ]
  },
  {
   "cell_type": "code",
   "execution_count": 326,
   "metadata": {},
   "outputs": [],
   "source": [
    "class GraduateStudent(Academic):\n",
    "    def __init__(self, zid, first_name, last_name):\n",
    "        self.level = \"Graduate\"\n",
    "        super().__init__(zid, first_name, last_name,12)\n",
    "        "
   ]
  },
  {
   "cell_type": "code",
   "execution_count": 327,
   "metadata": {},
   "outputs": [],
   "source": [
    "class Instructor(Academic):\n",
    "    def __init__(self, zid, first_name, last_name, title):\n",
    "        self.level = title\n",
    "        super().__init__(zid, first_name, last_name, 9)\n",
    "\n",
    "    def add_course(self, course):\n",
    "        super().add_course(course)\n",
    "        course.instructor = self.first_name + self.last_name\n",
    "\n",
    "    def remove_course(self, course):\n",
    "        super().remove_course(course)\n",
    "        course.instructor = \"Unassigned\""
   ]
  },
  {
   "cell_type": "markdown",
   "metadata": {},
   "source": [
    "# Part 4"
   ]
  },
  {
   "cell_type": "code",
   "execution_count": 328,
   "metadata": {},
   "outputs": [],
   "source": [
    "class Registrar:\n",
    "    def __init__(self):\n",
    "        self.people = {}\n",
    "        self.classes = {}\n",
    "    \n",
    "    def add_persons(self, people):\n",
    "        for i in people: \n",
    "            new_dict = {i.zid: i}\n",
    "            self.people.update(new_dict)\n",
    "\n",
    "    def add_courses(self, courses):\n",
    "        for i in courses:\n",
    "            class_id = i.department + str(i.course_number) + str(i.section)\n",
    "            new_dict = {class_id: i}\n",
    "            self.classes.update(new_dict)\n",
    "\n",
    "    def add_person_to_course(self, id, department, course_number, section):\n",
    "        person = self.people.get(id)\n",
    "        course_id = department + str(course_number) + str(section)\n",
    "        course = self.classes.get(course_id)\n",
    "        person.add_course(course)\n",
    "\n",
    "    def remove_person_to_course(self, id, department, course_number, section):\n",
    "        person = self.people.get(id)\n",
    "        course_id = department + str(course_number) + str(section)\n",
    "        course = self.classes.get(course_id)\n",
    "        person.remove_course(course)"
   ]
  },
  {
   "cell_type": "markdown",
   "metadata": {},
   "source": [
    "\n",
    "# Part 6"
   ]
  },
  {
   "cell_type": "code",
   "execution_count": 329,
   "metadata": {},
   "outputs": [],
   "source": [
    "s1 = Student(\"z143\", \"Catherine\", \"Smith\", \"Senior\")\n",
    "s2 = Student(\"z352\", \"Niraj\", \"Kumar\", \"Sophomore\")\n",
    "s3 = GraduateStudent(\"z785\", \"Divya\", \"Bharti\")\n",
    "s4 = GraduateStudent(\"z982\", \"James\", \"O'Brien\")\n",
    "\n",
    "i1 = Instructor(\"a421\", \"Jennifer\", \"Martinez\", \"Professor\")\n",
    "i2 = Instructor(\"a572\", \"Jonathan\", \"Jones\", \"Instructor\")"
   ]
  },
  {
   "cell_type": "code",
   "execution_count": 330,
   "metadata": {},
   "outputs": [],
   "source": [
    "c1 = Course(\"CSCI\", 1543, \"Programming Principles in Python\", 1, 3, [(\"Mon\", 10, 12), (\"Wed\", 10, 12)])\n",
    "c2 = Course(\"CSCI\", 1342, \"Computer Networks\", 2, 4, [(\"Tue\", 14, 16), (\"Thu\", 14, 16), (\"Fri\", 12, 13)])\n",
    "c3 = Course(\"CSCI\", 1352, \"Computer Graphics\", 1, 3, [(\"Tue\", 10, 12), (\"Thu\", 10, 12)])\n",
    "c4 = Course(\"SOCI\", 1230, \"Introduction to Sociology\", 1, 3, [(\"Mon\", 11, 13), (\"Thu\", 11, 13)])\n",
    "c5 = Course(\"POLS\", 1100, \"American Politics\", 2, 3, [(\"Tue\", 10, 12), (\"Thu\", 10, 12)])\n",
    "c6 = Course(\"SOCI\", 1450, \"Classical Sociological Theory\", 1, 3, [(\"Mon\", 12, 13), (\"Wed\", 12, 13), (\"Fri\", 12, 13)])"
   ]
  },
  {
   "cell_type": "code",
   "execution_count": 331,
   "metadata": {},
   "outputs": [],
   "source": [
    "r = Registrar()\n",
    "r.add_persons([s1,s2,s3,s4,i1,i2])\n",
    "r.add_courses([c1,c2,c3,c4,c5,c6])"
   ]
  },
  {
   "cell_type": "code",
   "execution_count": 332,
   "metadata": {},
   "outputs": [],
   "source": [
    "r.add_person_to_course(\"a572\", \"SOCI\", 1230, 1)\n",
    "r.add_person_to_course(\"a572\", \"POLS\", 1100, 2)\n",
    "r.add_person_to_course(\"a572\", \"SOCI\", 1450, 1)"
   ]
  },
  {
   "cell_type": "code",
   "execution_count": 333,
   "metadata": {},
   "outputs": [],
   "source": [
    "r.add_person_to_course(\"a421\", \"CSCI\", 1543, 1)\n",
    "r.add_person_to_course(\"a421\", \"CSCI\", 1342, 2)"
   ]
  },
  {
   "cell_type": "code",
   "execution_count": 334,
   "metadata": {},
   "outputs": [
    {
     "name": "stdout",
     "output_type": "stream",
     "text": [
      "Max credit amount exceeded\n"
     ]
    },
    {
     "ename": "ValueError",
     "evalue": "",
     "output_type": "error",
     "traceback": [
      "\u001b[1;31m---------------------------------------------------------------------------\u001b[0m",
      "\u001b[1;31mValueError\u001b[0m                                Traceback (most recent call last)",
      "\u001b[1;32m<ipython-input-334-fa60a3139a9e>\u001b[0m in \u001b[0;36m<module>\u001b[1;34m\u001b[0m\n\u001b[1;32m----> 1\u001b[1;33m \u001b[0mr\u001b[0m\u001b[1;33m.\u001b[0m\u001b[0madd_person_to_course\u001b[0m\u001b[1;33m(\u001b[0m\u001b[1;34m\"a421\"\u001b[0m\u001b[1;33m,\u001b[0m \u001b[1;34m\"CSCI\"\u001b[0m\u001b[1;33m,\u001b[0m \u001b[1;36m1352\u001b[0m\u001b[1;33m,\u001b[0m \u001b[1;36m1\u001b[0m\u001b[1;33m)\u001b[0m\u001b[1;33m\u001b[0m\u001b[1;33m\u001b[0m\u001b[0m\n\u001b[0m",
      "\u001b[1;32m<ipython-input-328-158ced6224f6>\u001b[0m in \u001b[0;36madd_person_to_course\u001b[1;34m(self, id, department, course_number, section)\u001b[0m\n\u001b[0;32m     19\u001b[0m         \u001b[0mcourse_id\u001b[0m \u001b[1;33m=\u001b[0m \u001b[0mdepartment\u001b[0m \u001b[1;33m+\u001b[0m \u001b[0mstr\u001b[0m\u001b[1;33m(\u001b[0m\u001b[0mcourse_number\u001b[0m\u001b[1;33m)\u001b[0m \u001b[1;33m+\u001b[0m \u001b[0mstr\u001b[0m\u001b[1;33m(\u001b[0m\u001b[0msection\u001b[0m\u001b[1;33m)\u001b[0m\u001b[1;33m\u001b[0m\u001b[1;33m\u001b[0m\u001b[0m\n\u001b[0;32m     20\u001b[0m         \u001b[0mcourse\u001b[0m \u001b[1;33m=\u001b[0m \u001b[0mself\u001b[0m\u001b[1;33m.\u001b[0m\u001b[0mclasses\u001b[0m\u001b[1;33m.\u001b[0m\u001b[0mget\u001b[0m\u001b[1;33m(\u001b[0m\u001b[0mcourse_id\u001b[0m\u001b[1;33m)\u001b[0m\u001b[1;33m\u001b[0m\u001b[1;33m\u001b[0m\u001b[0m\n\u001b[1;32m---> 21\u001b[1;33m         \u001b[0mperson\u001b[0m\u001b[1;33m.\u001b[0m\u001b[0madd_course\u001b[0m\u001b[1;33m(\u001b[0m\u001b[0mcourse\u001b[0m\u001b[1;33m)\u001b[0m\u001b[1;33m\u001b[0m\u001b[1;33m\u001b[0m\u001b[0m\n\u001b[0m\u001b[0;32m     22\u001b[0m \u001b[1;33m\u001b[0m\u001b[0m\n\u001b[0;32m     23\u001b[0m     \u001b[1;32mdef\u001b[0m \u001b[0mremove_person_to_course\u001b[0m\u001b[1;33m(\u001b[0m\u001b[0mself\u001b[0m\u001b[1;33m,\u001b[0m \u001b[0mid\u001b[0m\u001b[1;33m,\u001b[0m \u001b[0mdepartment\u001b[0m\u001b[1;33m,\u001b[0m \u001b[0mcourse_number\u001b[0m\u001b[1;33m,\u001b[0m \u001b[0msection\u001b[0m\u001b[1;33m)\u001b[0m\u001b[1;33m:\u001b[0m\u001b[1;33m\u001b[0m\u001b[1;33m\u001b[0m\u001b[0m\n",
      "\u001b[1;32m<ipython-input-327-c8733864650e>\u001b[0m in \u001b[0;36madd_course\u001b[1;34m(self, course)\u001b[0m\n\u001b[0;32m      5\u001b[0m \u001b[1;33m\u001b[0m\u001b[0m\n\u001b[0;32m      6\u001b[0m     \u001b[1;32mdef\u001b[0m \u001b[0madd_course\u001b[0m\u001b[1;33m(\u001b[0m\u001b[0mself\u001b[0m\u001b[1;33m,\u001b[0m \u001b[0mcourse\u001b[0m\u001b[1;33m)\u001b[0m\u001b[1;33m:\u001b[0m\u001b[1;33m\u001b[0m\u001b[1;33m\u001b[0m\u001b[0m\n\u001b[1;32m----> 7\u001b[1;33m         \u001b[0msuper\u001b[0m\u001b[1;33m(\u001b[0m\u001b[1;33m)\u001b[0m\u001b[1;33m.\u001b[0m\u001b[0madd_course\u001b[0m\u001b[1;33m(\u001b[0m\u001b[0mcourse\u001b[0m\u001b[1;33m)\u001b[0m\u001b[1;33m\u001b[0m\u001b[1;33m\u001b[0m\u001b[0m\n\u001b[0m\u001b[0;32m      8\u001b[0m         \u001b[0mcourse\u001b[0m\u001b[1;33m.\u001b[0m\u001b[0minstructor\u001b[0m \u001b[1;33m=\u001b[0m \u001b[0mself\u001b[0m\u001b[1;33m.\u001b[0m\u001b[0mfirst_name\u001b[0m \u001b[1;33m+\u001b[0m \u001b[0mself\u001b[0m\u001b[1;33m.\u001b[0m\u001b[0mlast_name\u001b[0m\u001b[1;33m\u001b[0m\u001b[1;33m\u001b[0m\u001b[0m\n\u001b[0;32m      9\u001b[0m \u001b[1;33m\u001b[0m\u001b[0m\n",
      "\u001b[1;32m<ipython-input-324-8998e08bf963>\u001b[0m in \u001b[0;36madd_course\u001b[1;34m(self, course)\u001b[0m\n\u001b[0;32m     12\u001b[0m         \u001b[1;32melse\u001b[0m\u001b[1;33m:\u001b[0m\u001b[1;33m\u001b[0m\u001b[1;33m\u001b[0m\u001b[0m\n\u001b[0;32m     13\u001b[0m             \u001b[0mprint\u001b[0m\u001b[1;33m(\u001b[0m\u001b[1;34m\"Max credit amount exceeded\"\u001b[0m\u001b[1;33m)\u001b[0m\u001b[1;33m\u001b[0m\u001b[1;33m\u001b[0m\u001b[0m\n\u001b[1;32m---> 14\u001b[1;33m             \u001b[1;32mraise\u001b[0m \u001b[0mValueError\u001b[0m\u001b[1;33m\u001b[0m\u001b[1;33m\u001b[0m\u001b[0m\n\u001b[0m\u001b[0;32m     15\u001b[0m \u001b[1;33m\u001b[0m\u001b[0m\n\u001b[0;32m     16\u001b[0m \u001b[1;33m\u001b[0m\u001b[0m\n",
      "\u001b[1;31mValueError\u001b[0m: "
     ]
    }
   ],
   "source": [
    "r.add_person_to_course(\"a421\", \"CSCI\", 1352, 1)\n",
    "\n",
    "#Will hopefully give error"
   ]
  },
  {
   "cell_type": "code",
   "execution_count": 335,
   "metadata": {},
   "outputs": [],
   "source": [
    "r.add_person_to_course(\"z785\", \"SOCI\", 1230, 1)\n",
    "r.add_person_to_course(\"z785\", \"CSCI\", 1352, 1)\n",
    "r.add_person_to_course(\"z143\", \"CSCI\", 1543, 1)\n",
    "r.add_person_to_course(\"z143\", \"CSCI\", 1342, 2)\n",
    "r.add_person_to_course(\"z143\", \"SOCI\", 1230, 1)"
   ]
  }
 ],
 "metadata": {
  "interpreter": {
   "hash": "b3ba2566441a7c06988d0923437866b63cedc61552a5af99d1f4fb67d367b25f"
  },
  "kernelspec": {
   "display_name": "Python 3.8.8 64-bit ('base': conda)",
   "name": "python3"
  },
  "language_info": {
   "codemirror_mode": {
    "name": "ipython",
    "version": 3
   },
   "file_extension": ".py",
   "mimetype": "text/x-python",
   "name": "python",
   "nbconvert_exporter": "python",
   "pygments_lexer": "ipython3",
   "version": "3.8.8"
  },
  "orig_nbformat": 4
 },
 "nbformat": 4,
 "nbformat_minor": 2
}
