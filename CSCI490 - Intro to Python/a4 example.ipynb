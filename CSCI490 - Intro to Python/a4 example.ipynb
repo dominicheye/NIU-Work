{
 "cells": [
  {
   "cell_type": "markdown",
   "source": [
    "# Assignment 4"
   ],
   "metadata": {}
  },
  {
   "cell_type": "code",
   "execution_count": null,
   "source": [
    "# Do not modify this cell, just run it to download the file\n",
    "\n",
    "from urllib.request import urlretrieve\n",
    "\n",
    "url = \"http://faculty.cs.niu.edu/~dakoop/cs503-2021fa/a4/food-prices-weekly.txt\"\n",
    "local_fname = \"food-prices-weekly.txt\"\n",
    "urlretrieve(url, local_fname)"
   ],
   "outputs": [],
   "metadata": {}
  },
  {
   "cell_type": "code",
   "execution_count": null,
   "source": [],
   "outputs": [],
   "metadata": {}
  }
 ],
 "metadata": {
  "kernelspec": {
   "display_name": "Python 3",
   "language": "python",
   "name": "python3"
  },
  "language_info": {
   "codemirror_mode": {
    "name": "ipython",
    "version": 3
   },
   "file_extension": ".py",
   "mimetype": "text/x-python",
   "name": "python",
   "nbconvert_exporter": "python",
   "pygments_lexer": "ipython3",
   "version": "3.8.1"
  }
 },
 "nbformat": 4,
 "nbformat_minor": 4
}