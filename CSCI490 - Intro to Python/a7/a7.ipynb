{
 "cells": [
  {
   "cell_type": "markdown",
   "metadata": {},
   "source": [
    "# Assignment 7"
   ]
  },
  {
   "cell_type": "markdown",
   "metadata": {},
   "source": [
    "Dominic Heye Z1841746"
   ]
  },
  {
   "cell_type": "markdown",
   "metadata": {},
   "source": [
    "# Part 1"
   ]
  },
  {
   "cell_type": "code",
   "execution_count": 13,
   "metadata": {},
   "outputs": [],
   "source": [
    "import requests\n",
    "import zipfile\n",
    "import io"
   ]
  },
  {
   "cell_type": "code",
   "execution_count": 14,
   "metadata": {},
   "outputs": [],
   "source": [
    "r1 = requests.get('http://faculty.cs.niu.edu/~dakoop/cs503-2021fa/a7/fg.zip')\n",
    "r2 = requests.get('http://faculty.cs.niu.edu/~dakoop/cs503-2021fa/a7/hij.zip')\n",
    "r3 = requests.get('http://faculty.cs.niu.edu/~dakoop/cs503-2021fa/a7/tu.zip')"
   ]
  },
  {
   "cell_type": "code",
   "execution_count": 15,
   "metadata": {},
   "outputs": [],
   "source": [
    "r = [r1, r2, r3]\n",
    "for i in r:\n",
    "    z = zipfile.ZipFile(io.BytesIO(i.content))\n",
    "    z.extractall()"
   ]
  },
  {
   "cell_type": "markdown",
   "metadata": {},
   "source": [
    "# Part 2"
   ]
  },
  {
   "cell_type": "code",
   "execution_count": 16,
   "metadata": {},
   "outputs": [],
   "source": [
    "import os\n",
    "path_list = []"
   ]
  },
  {
   "cell_type": "code",
   "execution_count": 17,
   "metadata": {},
   "outputs": [],
   "source": [
    "with os.scandir('data') as entries:\n",
    "    for entry in entries:\n",
    "        if entry.is_dir():\n",
    "            directory = 'data/' + entry.name\n",
    "            with os.scandir(directory) as sub_entries:\n",
    "                for sub_entry in sub_entries:\n",
    "                    path = directory + '/' + sub_entry.name\n",
    "                    path_list.append(path)\n",
    "        else:\n",
    "            path = 'data/' + entry.name\n",
    "            path_list.append(path)"
   ]
  },
  {
   "cell_type": "markdown",
   "metadata": {},
   "source": [
    "# Part 3"
   ]
  },
  {
   "cell_type": "code",
   "execution_count": 18,
   "metadata": {},
   "outputs": [],
   "source": [
    "import pandas as pd\n",
    "from pandas import Series, DataFrame\n",
    "from concurrent import futures\n",
    "import concurrent.futures\n",
    "final_df = pd.DataFrame()"
   ]
  },
  {
   "cell_type": "code",
   "execution_count": 19,
   "metadata": {},
   "outputs": [],
   "source": [
    "def process(file_location):\n",
    "    df = pd.read_csv(file_location, na_values=-999.0)\n",
    "    df = df.query('data_class == \"electricity\"')\n",
    "    return df"
   ]
  },
  {
   "cell_type": "code",
   "execution_count": 20,
   "metadata": {},
   "outputs": [
    {
     "data": {
      "text/html": [
       "<div>\n",
       "<style scoped>\n",
       "    .dataframe tbody tr th:only-of-type {\n",
       "        vertical-align: middle;\n",
       "    }\n",
       "\n",
       "    .dataframe tbody tr th {\n",
       "        vertical-align: top;\n",
       "    }\n",
       "\n",
       "    .dataframe thead th {\n",
       "        text-align: right;\n",
       "    }\n",
       "</style>\n",
       "<table border=\"1\" class=\"dataframe\">\n",
       "  <thead>\n",
       "    <tr style=\"text-align: right;\">\n",
       "      <th></th>\n",
       "      <th>county_name</th>\n",
       "      <th>com_name</th>\n",
       "      <th>year</th>\n",
       "      <th>month</th>\n",
       "      <th>data_class</th>\n",
       "      <th>data_field_display_name</th>\n",
       "      <th>unit</th>\n",
       "      <th>value</th>\n",
       "      <th>number_of_accounts</th>\n",
       "    </tr>\n",
       "  </thead>\n",
       "  <tbody>\n",
       "    <tr>\n",
       "      <th>0</th>\n",
       "      <td>Fulton</td>\n",
       "      <td>Northville</td>\n",
       "      <td>2020</td>\n",
       "      <td>10</td>\n",
       "      <td>electricity</td>\n",
       "      <td>Total Consumption (T)</td>\n",
       "      <td>MWh</td>\n",
       "      <td>520.628</td>\n",
       "      <td>718.0</td>\n",
       "    </tr>\n",
       "    <tr>\n",
       "      <th>1</th>\n",
       "      <td>Fulton</td>\n",
       "      <td>Northville</td>\n",
       "      <td>2020</td>\n",
       "      <td>10</td>\n",
       "      <td>electricity</td>\n",
       "      <td>Business Consumption (SC+O)</td>\n",
       "      <td>MWh</td>\n",
       "      <td>157.420</td>\n",
       "      <td>87.0</td>\n",
       "    </tr>\n",
       "    <tr>\n",
       "      <th>2</th>\n",
       "      <td>Fulton</td>\n",
       "      <td>Northville</td>\n",
       "      <td>2020</td>\n",
       "      <td>10</td>\n",
       "      <td>electricity</td>\n",
       "      <td>Small Commercial Consumption (SC)</td>\n",
       "      <td>MWh</td>\n",
       "      <td>NaN</td>\n",
       "      <td>81.0</td>\n",
       "    </tr>\n",
       "    <tr>\n",
       "      <th>3</th>\n",
       "      <td>Fulton</td>\n",
       "      <td>Northville</td>\n",
       "      <td>2020</td>\n",
       "      <td>10</td>\n",
       "      <td>electricity</td>\n",
       "      <td>Small Consumer Consumption (R+SC)</td>\n",
       "      <td>MWh</td>\n",
       "      <td>NaN</td>\n",
       "      <td>712.0</td>\n",
       "    </tr>\n",
       "    <tr>\n",
       "      <th>4</th>\n",
       "      <td>Fulton</td>\n",
       "      <td>Northville</td>\n",
       "      <td>2020</td>\n",
       "      <td>10</td>\n",
       "      <td>electricity</td>\n",
       "      <td>Residential Consumption (R)</td>\n",
       "      <td>MWh</td>\n",
       "      <td>363.208</td>\n",
       "      <td>631.0</td>\n",
       "    </tr>\n",
       "    <tr>\n",
       "      <th>...</th>\n",
       "      <td>...</td>\n",
       "      <td>...</td>\n",
       "      <td>...</td>\n",
       "      <td>...</td>\n",
       "      <td>...</td>\n",
       "      <td>...</td>\n",
       "      <td>...</td>\n",
       "      <td>...</td>\n",
       "      <td>...</td>\n",
       "    </tr>\n",
       "    <tr>\n",
       "      <th>10083</th>\n",
       "      <td>Jefferson</td>\n",
       "      <td>Adams</td>\n",
       "      <td>2019</td>\n",
       "      <td>10</td>\n",
       "      <td>electricity</td>\n",
       "      <td>Business Consumption (SC+O)</td>\n",
       "      <td>MWh</td>\n",
       "      <td>NaN</td>\n",
       "      <td>72.0</td>\n",
       "    </tr>\n",
       "    <tr>\n",
       "      <th>10084</th>\n",
       "      <td>Jefferson</td>\n",
       "      <td>Adams</td>\n",
       "      <td>2019</td>\n",
       "      <td>10</td>\n",
       "      <td>electricity</td>\n",
       "      <td>Small Consumer Consumption (R+SC)</td>\n",
       "      <td>MWh</td>\n",
       "      <td>438.691</td>\n",
       "      <td>675.0</td>\n",
       "    </tr>\n",
       "    <tr>\n",
       "      <th>10085</th>\n",
       "      <td>Jefferson</td>\n",
       "      <td>Adams</td>\n",
       "      <td>2019</td>\n",
       "      <td>10</td>\n",
       "      <td>electricity</td>\n",
       "      <td>All Other Consumption (O)</td>\n",
       "      <td>MWh</td>\n",
       "      <td>NaN</td>\n",
       "      <td>2.0</td>\n",
       "    </tr>\n",
       "    <tr>\n",
       "      <th>10086</th>\n",
       "      <td>Jefferson</td>\n",
       "      <td>Adams</td>\n",
       "      <td>2019</td>\n",
       "      <td>10</td>\n",
       "      <td>electricity</td>\n",
       "      <td>Small Commercial Consumption (SC)</td>\n",
       "      <td>MWh</td>\n",
       "      <td>148.403</td>\n",
       "      <td>70.0</td>\n",
       "    </tr>\n",
       "    <tr>\n",
       "      <th>10087</th>\n",
       "      <td>Jefferson</td>\n",
       "      <td>Adams</td>\n",
       "      <td>2019</td>\n",
       "      <td>10</td>\n",
       "      <td>electricity</td>\n",
       "      <td>Residential Consumption (R)</td>\n",
       "      <td>MWh</td>\n",
       "      <td>290.288</td>\n",
       "      <td>605.0</td>\n",
       "    </tr>\n",
       "  </tbody>\n",
       "</table>\n",
       "<p>39704 rows × 9 columns</p>\n",
       "</div>"
      ],
      "text/plain": [
       "      county_name    com_name  year  month   data_class  \\\n",
       "0          Fulton  Northville  2020     10  electricity   \n",
       "1          Fulton  Northville  2020     10  electricity   \n",
       "2          Fulton  Northville  2020     10  electricity   \n",
       "3          Fulton  Northville  2020     10  electricity   \n",
       "4          Fulton  Northville  2020     10  electricity   \n",
       "...           ...         ...   ...    ...          ...   \n",
       "10083   Jefferson       Adams  2019     10  electricity   \n",
       "10084   Jefferson       Adams  2019     10  electricity   \n",
       "10085   Jefferson       Adams  2019     10  electricity   \n",
       "10086   Jefferson       Adams  2019     10  electricity   \n",
       "10087   Jefferson       Adams  2019     10  electricity   \n",
       "\n",
       "                 data_field_display_name unit    value  number_of_accounts  \n",
       "0                  Total Consumption (T)  MWh  520.628               718.0  \n",
       "1            Business Consumption (SC+O)  MWh  157.420                87.0  \n",
       "2      Small Commercial Consumption (SC)  MWh      NaN                81.0  \n",
       "3      Small Consumer Consumption (R+SC)  MWh      NaN               712.0  \n",
       "4            Residential Consumption (R)  MWh  363.208               631.0  \n",
       "...                                  ...  ...      ...                 ...  \n",
       "10083        Business Consumption (SC+O)  MWh      NaN                72.0  \n",
       "10084  Small Consumer Consumption (R+SC)  MWh  438.691               675.0  \n",
       "10085          All Other Consumption (O)  MWh      NaN                 2.0  \n",
       "10086  Small Commercial Consumption (SC)  MWh  148.403                70.0  \n",
       "10087        Residential Consumption (R)  MWh  290.288               605.0  \n",
       "\n",
       "[39704 rows x 9 columns]"
      ]
     },
     "execution_count": 20,
     "metadata": {},
     "output_type": "execute_result"
    }
   ],
   "source": [
    "with concurrent.futures.ThreadPoolExecutor(max_workers=10) as executor:\n",
    "    future_to_process = {executor.submit(process,file_location): file_location for file_location in path_list}\n",
    "    data_list= []\n",
    "    for future in concurrent.futures.as_completed(future_to_process):\n",
    "        file_location = future_to_process[future]\n",
    "        try:\n",
    "            data = future.result()\n",
    "            data_list.append(data)\n",
    "            #print(data)\n",
    "        except Exception as exc:\n",
    "            print('%r generated an exception: %s' % (file_location, exc))\\\n",
    "            \n",
    "#print(data_list)\n",
    "\n",
    "final_df = pd.concat(data_list)\n",
    "final_df"
   ]
  },
  {
   "cell_type": "code",
   "execution_count": 21,
   "metadata": {},
   "outputs": [],
   "source": [
    "df_2019 = final_df[final_df['year'] == 2019]\n",
    "df_2020 = final_df[final_df['year'] == 2020]"
   ]
  },
  {
   "cell_type": "code",
   "execution_count": 22,
   "metadata": {},
   "outputs": [],
   "source": [
    "df_2019.to_csv('2019.csv.gz')\n",
    "df_2020.to_csv('2020.csv.gz')"
   ]
  },
  {
   "cell_type": "code",
   "execution_count": 23,
   "metadata": {},
   "outputs": [
    {
     "data": {
      "text/plain": [
       "county_name\n",
       "Franklin     1134\n",
       "Fulton        630\n",
       "Genesee       798\n",
       "Greene        840\n",
       "Hamilton      504\n",
       "Herkimer     1302\n",
       "Jefferson    1680\n",
       "Tioga         588\n",
       "Tompkins      630\n",
       "Ulster       1050\n",
       "dtype: int64"
      ]
     },
     "execution_count": 23,
     "metadata": {},
     "output_type": "execute_result"
    }
   ],
   "source": [
    "df2019 = pd.read_csv('2019.csv.gz')\n",
    "df2019.groupby('county_name').size()"
   ]
  },
  {
   "cell_type": "code",
   "execution_count": 24,
   "metadata": {},
   "outputs": [
    {
     "data": {
      "text/plain": [
       "county_name\n",
       "Franklin     3724\n",
       "Fulton       2100\n",
       "Genesee      2660\n",
       "Greene       2884\n",
       "Hamilton     1680\n",
       "Herkimer     4340\n",
       "Jefferson    5600\n",
       "Tioga        1960\n",
       "Tompkins     2100\n",
       "Ulster       3500\n",
       "dtype: int64"
      ]
     },
     "execution_count": 24,
     "metadata": {},
     "output_type": "execute_result"
    }
   ],
   "source": [
    "df2020 = pd.read_csv('2020.csv.gz')\n",
    "df2020.groupby('county_name').size()"
   ]
  }
 ],
 "metadata": {
  "interpreter": {
   "hash": "b3ba2566441a7c06988d0923437866b63cedc61552a5af99d1f4fb67d367b25f"
  },
  "kernelspec": {
   "display_name": "Python 3.8.8 64-bit ('base': conda)",
   "name": "python3"
  },
  "language_info": {
   "codemirror_mode": {
    "name": "ipython",
    "version": 3
   },
   "file_extension": ".py",
   "mimetype": "text/x-python",
   "name": "python",
   "nbconvert_exporter": "python",
   "pygments_lexer": "ipython3",
   "version": "3.8.8"
  },
  "orig_nbformat": 4
 },
 "nbformat": 4,
 "nbformat_minor": 2
}
