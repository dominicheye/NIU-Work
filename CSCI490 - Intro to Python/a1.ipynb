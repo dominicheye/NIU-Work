{
 "cells": [
  {
   "cell_type": "markdown",
   "id": "0d52bd35-6b66-482e-b3b8-7f69d6891ec9",
   "metadata": {},
   "source": [
    "Dominic Heye <br> Z1841746 <br> Assignment 1"
   ]
  },
  {
   "cell_type": "markdown",
   "id": "bf006d6a-7b7b-413f-b5a1-cff8efed5f9b",
   "metadata": {},
   "source": [
    "Part 1"
   ]
  },
  {
   "cell_type": "code",
   "execution_count": 31,
   "id": "7f3bfb69-2eba-420e-b520-c3d888c23215",
   "metadata": {},
   "outputs": [
    {
     "output_type": "stream",
     "name": "stdout",
     "text": [
      "Hello,\nDekalb\n"
     ]
    }
   ],
   "source": [
    "print(\"Hello,\\nDekalb\")"
   ]
  },
  {
   "cell_type": "markdown",
   "id": "7e9b5c7b-1c2d-4ca2-b742-01caf19285f0",
   "metadata": {},
   "source": [
    "Part 2"
   ]
  },
  {
   "cell_type": "code",
   "execution_count": 32,
   "id": "62de5e83-b9fb-4ae4-9686-4d373d92a7dc",
   "metadata": {},
   "outputs": [
    {
     "output_type": "stream",
     "name": "stdout",
     "text": [
      "Hello, Dominic\n"
     ]
    }
   ],
   "source": [
    "# create variable to store name\n",
    "name = \"Dominic\"\n",
    "print(\"Hello, \" + name)"
   ]
  },
  {
   "cell_type": "markdown",
   "id": "7f7da48b-e4da-420b-8754-68ddf12e60ac",
   "metadata": {},
   "source": [
    "Part 3"
   ]
  },
  {
   "cell_type": "code",
   "execution_count": 33,
   "id": "2642424e-833e-4de3-8386-e1240621633d",
   "metadata": {},
   "outputs": [],
   "source": [
    "G = 6.667408 * 10 ** -11"
   ]
  },
  {
   "cell_type": "code",
   "execution_count": 34,
   "id": "b41b6f1d-667d-490b-8ba8-84e910c98461",
   "metadata": {},
   "outputs": [],
   "source": [
    "m1 = 5.972e24"
   ]
  },
  {
   "cell_type": "code",
   "execution_count": 35,
   "id": "15669782-5666-4e1f-8b71-ad1911b5e57b",
   "metadata": {},
   "outputs": [],
   "source": [
    "m2 = 7.34767309e22"
   ]
  },
  {
   "cell_type": "code",
   "execution_count": 36,
   "id": "3291a678-b50f-403e-8709-1cbc5baa9207",
   "metadata": {},
   "outputs": [],
   "source": [
    "r = 3.844e8"
   ]
  },
  {
   "cell_type": "code",
   "execution_count": 37,
   "id": "6a7baba6-4d12-447d-964c-d6dbb4e48eac",
   "metadata": {},
   "outputs": [
    {
     "output_type": "execute_result",
     "data": {
      "text/plain": [
       "1.979975874183817e+20"
      ]
     },
     "metadata": {},
     "execution_count": 37
    }
   ],
   "source": [
    "F = G * m1 * m2 / (r ** 2)\n",
    "F"
   ]
  },
  {
   "cell_type": "markdown",
   "id": "af41e5bf-7ba4-4716-984f-9583095dd2a2",
   "metadata": {},
   "source": [
    "Part 4"
   ]
  },
  {
   "cell_type": "code",
   "execution_count": 38,
   "id": "0441496c-d7e5-430e-b9a9-31c4414de062",
   "metadata": {},
   "outputs": [],
   "source": [
    "a = 1\n",
    "b = -5\n",
    "c = 6"
   ]
  },
  {
   "cell_type": "code",
   "execution_count": 39,
   "id": "4bc85866-cf39-4814-bc0e-b9986293559a",
   "metadata": {},
   "outputs": [
    {
     "output_type": "stream",
     "name": "stdout",
     "text": [
      "X = 3.0, 2.0\n"
     ]
    }
   ],
   "source": [
    "x1 = (-b + (b ** 2 - 4 * a * c) ** 0.5)/ (2 * a)\n",
    "x2 = (-b - (b ** 2 - 4 * a * c) ** 0.5)/ (2 * a)\n",
    "print(\"X = \" + str(x1) + \", \" + str(x2))"
   ]
  },
  {
   "source": [
    "a = 1\n",
    "b = 3\n",
    "c = 4\n",
    "x1 = (-b + (b ** 2 - 4 * a * c) ** 0.5)/ (2 * a)\n",
    "x2 = (-b - (b ** 2 - 4 * a * c) ** 0.5)/ (2 * a)\n",
    "print(\"X = \" + str(x1) + \", \" + str(x2))"
   ],
   "cell_type": "code",
   "metadata": {},
   "execution_count": 40,
   "outputs": [
    {
     "output_type": "stream",
     "name": "stdout",
     "text": [
      "X = (-1.5+1.3228756555322954j), (-1.5-1.3228756555322954j)\n"
     ]
    }
   ]
  }
 ],
 "metadata": {
  "kernelspec": {
   "display_name": "Python 3",
   "language": "python",
   "name": "python3"
  },
  "language_info": {
   "codemirror_mode": {
    "name": "ipython",
    "version": 3
   },
   "file_extension": ".py",
   "mimetype": "text/x-python",
   "name": "python",
   "nbconvert_exporter": "python",
   "pygments_lexer": "ipython3",
   "version": "3.8.8"
  }
 },
 "nbformat": 4,
 "nbformat_minor": 5
}