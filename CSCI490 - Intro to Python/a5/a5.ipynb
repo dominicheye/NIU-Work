{
 "cells": [
  {
   "cell_type": "markdown",
   "metadata": {},
   "source": [
    "# Assignment 5"
   ]
  },
  {
   "cell_type": "markdown",
   "metadata": {},
   "source": [
    "Dominic Heye Z1841746"
   ]
  },
  {
   "cell_type": "code",
   "execution_count": 1,
   "metadata": {},
   "outputs": [
    {
     "name": "stdout",
     "output_type": "stream",
     "text": [
      "Usage: python analyze_trades.py [ticker <ticker> | compare <senator1> <senator2>]\n"
     ]
    }
   ],
   "source": [
    "%run analyze_trades.py"
   ]
  },
  {
   "cell_type": "code",
   "execution_count": 2,
   "metadata": {},
   "outputs": [
    {
     "name": "stdout",
     "output_type": "stream",
     "text": [
      "Usage: python analyze_trades.py [ticker <ticker> | compare <senator1> <senator2>]\n"
     ]
    }
   ],
   "source": [
    "%run analyze_trades.py ticker"
   ]
  },
  {
   "cell_type": "code",
   "execution_count": 3,
   "metadata": {},
   "outputs": [
    {
     "name": "stdout",
     "output_type": "stream",
     "text": [
      "Number of trades:\n",
      "  Ron L Wyden: 8\n",
      "  Pat Roberts: 43\n",
      "  David A Perdue , Jr: 4\n",
      "  John Hoeven: 1\n",
      "  Christopher A Coons: 4\n",
      "  Sheldon Whitehouse: 8\n",
      "Sum of trade values:\n",
      "  Ron L Wyden: (71008, 240000)\n",
      "  Pat Roberts: (1343043, 3420000)\n",
      "  David A Perdue , Jr: (60004, 200000)\n",
      "  John Hoeven: (50001, 100000)\n",
      "  Christopher A Coons: (4004, 60000)\n",
      "  Sheldon Whitehouse: (50008, 225000)\n"
     ]
    }
   ],
   "source": [
    "%run analyze_trades.py ticker NFLX"
   ]
  },
  {
   "cell_type": "code",
   "execution_count": 4,
   "metadata": {},
   "outputs": [
    {
     "name": "stdout",
     "output_type": "stream",
     "text": [
      "Kelly Loeffler has -2318 trades with value +(10969682, 68780000) than David A Perdue , Jr\n"
     ]
    }
   ],
   "source": [
    "%run analyze_trades.py compare \"Kelly Loeffler\" \"David A Perdue , Jr\" "
   ]
  },
  {
   "cell_type": "code",
   "execution_count": 5,
   "metadata": {},
   "outputs": [
    {
     "name": "stdout",
     "output_type": "stream",
     "text": [
      "Kelly Loeffler has +50 trades with value -(12291950, None) than James M Inhofe\n"
     ]
    }
   ],
   "source": [
    "%run analyze_trades.py compare \"Kelly Loeffler\" \"James M Inhofe\""
   ]
  }
 ],
 "metadata": {
  "interpreter": {
   "hash": "b3ba2566441a7c06988d0923437866b63cedc61552a5af99d1f4fb67d367b25f"
  },
  "kernelspec": {
   "display_name": "Python 3.8.8 64-bit ('base': conda)",
   "name": "python3"
  },
  "language_info": {
   "codemirror_mode": {
    "name": "ipython",
    "version": 3
   },
   "file_extension": ".py",
   "mimetype": "text/x-python",
   "name": "python",
   "nbconvert_exporter": "python",
   "pygments_lexer": "ipython3",
   "version": "3.8.8"
  },
  "orig_nbformat": 4
 },
 "nbformat": 4,
 "nbformat_minor": 2
}
