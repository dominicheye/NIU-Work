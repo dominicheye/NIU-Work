{
 "cells": [
  {
   "cell_type": "markdown",
   "id": "0afdfef5",
   "metadata": {},
   "source": [
    "Dominic Heye\n",
    "\n",
    "Z1841746\n",
    "\n",
    "Assignment 2"
   ]
  },
  {
   "cell_type": "markdown",
   "id": "62640d51",
   "metadata": {},
   "source": [
    "Part 1"
   ]
  },
  {
   "cell_type": "code",
   "execution_count": 1,
   "id": "f86520d3",
   "metadata": {},
   "outputs": [],
   "source": [
    "def logarithm(a):\n",
    "    i = 0\n",
    "    while a >= 1:\n",
    "        a = a/3\n",
    "        i += 1\n",
    "    i -= 1\n",
    "    return i"
   ]
  },
  {
   "cell_type": "code",
   "execution_count": 2,
   "id": "ab4f771a",
   "metadata": {},
   "outputs": [
    {
     "output_type": "execute_result",
     "data": {
      "text/plain": [
       "3"
      ]
     },
     "metadata": {},
     "execution_count": 2
    }
   ],
   "source": [
    "logarithm(27)"
   ]
  },
  {
   "cell_type": "code",
   "execution_count": 3,
   "id": "ef8098cd",
   "metadata": {},
   "outputs": [
    {
     "output_type": "execute_result",
     "data": {
      "text/plain": [
       "4"
      ]
     },
     "metadata": {},
     "execution_count": 3
    }
   ],
   "source": [
    "logarithm(81)"
   ]
  },
  {
   "cell_type": "code",
   "execution_count": 4,
   "id": "90e1e52b",
   "metadata": {},
   "outputs": [
    {
     "output_type": "execute_result",
     "data": {
      "text/plain": [
       "7"
      ]
     },
     "metadata": {},
     "execution_count": 4
    }
   ],
   "source": [
    "logarithm(2187)"
   ]
  },
  {
   "cell_type": "markdown",
   "id": "4baa8ead",
   "metadata": {},
   "source": [
    "Part 2"
   ]
  },
  {
   "cell_type": "code",
   "execution_count": 5,
   "id": "c2c240b6",
   "metadata": {},
   "outputs": [],
   "source": [
    "def fractran_add(a, b):\n",
    "    n = 2 ** a * 3 ** b\n",
    "    while (n % 2) == 0:\n",
    "        n = n * 3 / 2\n",
    "    \n",
    "    r = logarithm(n)\n",
    "    return r"
   ]
  },
  {
   "cell_type": "code",
   "execution_count": 6,
   "id": "42e278b5",
   "metadata": {},
   "outputs": [
    {
     "output_type": "stream",
     "name": "stdout",
     "text": [
      "1 + 3 = 4\n1 + 4 = 5\n1 + 5 = 6\n1 + 6 = 7\n1 + 7 = 8\n2 + 3 = 5\n2 + 4 = 6\n2 + 5 = 7\n2 + 6 = 8\n2 + 7 = 9\n3 + 3 = 6\n3 + 4 = 7\n3 + 5 = 8\n3 + 6 = 9\n3 + 7 = 10\n4 + 3 = 7\n4 + 4 = 8\n4 + 5 = 9\n4 + 6 = 10\n4 + 7 = 11\n5 + 3 = 8\n5 + 4 = 9\n5 + 5 = 10\n5 + 6 = 11\n5 + 7 = 12\n"
     ]
    }
   ],
   "source": [
    "for i in range(1,6):\n",
    "    for j in range(3,8):\n",
    "        print(i,\"+\", j, \"=\", fractran_add(i,j))"
   ]
  },
  {
   "cell_type": "markdown",
   "id": "7a00ee91",
   "metadata": {},
   "source": [
    "Part 3"
   ]
  },
  {
   "cell_type": "code",
   "execution_count": 7,
   "id": "9724d270",
   "metadata": {},
   "outputs": [],
   "source": [
    "def fractran_sub(a, b):\n",
    "    n = 3 ** a * 5 ** b\n",
    "    while (n % 15) == 0:\n",
    "        n = n * 2 / 15    \n",
    "        \n",
    "    while (n % 2) == 0:\n",
    "        n = n / 2   \n",
    "        \n",
    "    return logarithm(n)"
   ]
  },
  {
   "cell_type": "code",
   "execution_count": 8,
   "id": "d7508d02",
   "metadata": {},
   "outputs": [
    {
     "output_type": "stream",
     "name": "stdout",
     "text": [
      "5 - 1 = 4\n5 - 2 = 3\n5 - 3 = 2\n5 - 4 = 1\n5 - 5 = 0\n6 - 1 = 5\n6 - 2 = 4\n6 - 3 = 3\n6 - 4 = 2\n6 - 5 = 1\n7 - 1 = 6\n7 - 2 = 5\n7 - 3 = 4\n7 - 4 = 3\n7 - 5 = 2\n8 - 1 = 7\n8 - 2 = 6\n8 - 3 = 5\n8 - 4 = 4\n8 - 5 = 3\n9 - 1 = 8\n9 - 2 = 7\n9 - 3 = 6\n9 - 4 = 5\n9 - 5 = 4\n10 - 1 = 9\n10 - 2 = 8\n10 - 3 = 7\n10 - 4 = 6\n10 - 5 = 5\n"
     ]
    }
   ],
   "source": [
    "for i in range(5,11):\n",
    "    for j in range(1,6):\n",
    "        print(i,\"-\", j, \"=\", fractran_sub(i,j))"
   ]
  }
 ],
 "metadata": {
  "kernelspec": {
   "display_name": "Python 3",
   "language": "python",
   "name": "python3"
  },
  "language_info": {
   "codemirror_mode": {
    "name": "ipython",
    "version": 3
   },
   "file_extension": ".py",
   "mimetype": "text/x-python",
   "name": "python",
   "nbconvert_exporter": "python",
   "pygments_lexer": "ipython3",
   "version": "3.8.8"
  }
 },
 "nbformat": 4,
 "nbformat_minor": 5
}