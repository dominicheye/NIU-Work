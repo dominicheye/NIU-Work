{
 "cells": [
  {
   "cell_type": "code",
   "execution_count": 34,
   "metadata": {},
   "outputs": [],
   "source": [
    "import math"
   ]
  },
  {
   "cell_type": "code",
   "execution_count": 35,
   "metadata": {},
   "outputs": [],
   "source": [
    "points = [[3,4],[2,-5],[-3,-3],[-4,6]]\n",
    "dir_list = []"
   ]
  },
  {
   "cell_type": "code",
   "execution_count": 36,
   "metadata": {},
   "outputs": [
    {
     "name": "stdout",
     "output_type": "stream",
     "text": [
      "x=3 and y=4\n",
      "0.9272952180016122\n",
      "1\n",
      "x=2 and y=-5\n",
      "3\n",
      "x=-3 and y=-3\n",
      "4\n",
      "x=-4 and y=6\n",
      "2\n"
     ]
    }
   ],
   "source": [
    "\n",
    "for i in points:\n",
    "    x = i[0]\n",
    "    y = i[1]\n",
    "    print(f'x={x} and y={y}')\n",
    "    if x > 0 and y > 0:\n",
    "        print(abs(math.atan(y/x)))\n",
    "        dir = 90 - 180 / math.pi * abs(math.atan(y/x))\n",
    "        print('1')\n",
    "    elif x < 0 and y > 0:\n",
    "        dir = 270 + 180 / math.pi *  abs(math.atan(y/x))\n",
    "        print('2')\n",
    "    elif x > 0 and y < 0:\n",
    "        dir = 90 + 180 / math.pi *  abs(math.atan(y/x))\n",
    "        print('3')\n",
    "    elif x < 0 and y < 0:\n",
    "        dir = 270 - 180 / math.pi *  abs(math.atan(y/x))\n",
    "        print('4')\n",
    "    elif x == 0 and y != 0:\n",
    "        dir = (y/abs(y)) * 90 + 180\n",
    "    elif x != 0 and y == 0:\n",
    "        dir = (x/abs(x)) * 90 + 90\n",
    "    dir_list.append(dir)"
   ]
  },
  {
   "cell_type": "code",
   "execution_count": 37,
   "metadata": {},
   "outputs": [
    {
     "name": "stdout",
     "output_type": "stream",
     "text": [
      "[36.86989764584402, 158.19859051364818, 225.0, 326.30993247402023]\n"
     ]
    }
   ],
   "source": [
    "print(dir_list)"
   ]
  }
 ],
 "metadata": {
  "interpreter": {
   "hash": "85533c7e7df405b03c96da8bc66ffb6bdf66a9733ad7fa16ee30ab4cd68c8d1e"
  },
  "kernelspec": {
   "display_name": "Python 3.9.9 64-bit",
   "language": "python",
   "name": "python3"
  },
  "language_info": {
   "codemirror_mode": {
    "name": "ipython",
    "version": 3
   },
   "file_extension": ".py",
   "mimetype": "text/x-python",
   "name": "python",
   "nbconvert_exporter": "python",
   "pygments_lexer": "ipython3",
   "version": "3.9.9"
  },
  "orig_nbformat": 4
 },
 "nbformat": 4,
 "nbformat_minor": 2
}
