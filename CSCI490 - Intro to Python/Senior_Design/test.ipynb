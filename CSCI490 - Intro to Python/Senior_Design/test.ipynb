{
 "cells": [
  {
   "cell_type": "code",
   "execution_count": 36,
   "metadata": {},
   "outputs": [],
   "source": [
    "import math"
   ]
  },
  {
   "cell_type": "code",
   "execution_count": 37,
   "metadata": {},
   "outputs": [],
   "source": [
    "x_lat=0.001900000000205182"
   ]
  },
  {
   "cell_type": "code",
   "execution_count": 38,
   "metadata": {},
   "outputs": [],
   "source": [
    "x_long= 0.001699999998891144"
   ]
  },
  {
   "cell_type": "code",
   "execution_count": 39,
   "metadata": {},
   "outputs": [
    {
     "data": {
      "text/plain": [
       "41.82016985848998"
      ]
     },
     "execution_count": 39,
     "metadata": {},
     "output_type": "execute_result"
    }
   ],
   "source": [
    "dir = 90 - 180 / math.pi * abs(math.atan(abs(x_lat)/abs(x_long)))\n",
    "dir"
   ]
  },
  {
   "cell_type": "code",
   "execution_count": 42,
   "metadata": {},
   "outputs": [
    {
     "name": "stdout",
     "output_type": "stream",
     "text": [
      "41.93965166666667, -88.77457500000001\n"
     ]
    }
   ],
   "source": [
    "lat = 4156.3791\n",
    "long = -8846.4745\n",
    "\n",
    "lat = lat/100\n",
    "long = long/100\n",
    "\n",
    "lat_neg = 0\n",
    "long_neg = 0\n",
    "\n",
    "lat = str(lat)\n",
    "long = str(long)\n",
    "\n",
    "if lat[0] == '-':\n",
    "    lat_neg = 1\n",
    "if long[0] == '-':\n",
    "    long_neg = 1\n",
    "\n",
    "lat_degree = float(lat[:2+lat_neg])\n",
    "long_degree = float(long[:2+long_neg])\n",
    "\n",
    "lat_seconds = float(lat[2+lat_neg:])\n",
    "long_seconds = float(long[2+long_neg:])\n",
    "\n",
    "lat_seconds = lat_seconds*100\n",
    "long_seconds = long_seconds *100\n",
    "if lat_neg == 0:\n",
    "    lat = lat_degree + lat_seconds/60\n",
    "\n",
    "else:\n",
    "    lat = lat_degree - lat_seconds/60\n",
    "\n",
    "if long_neg == 0:\n",
    "    long = long_degree + long_seconds/60\n",
    "\n",
    "else:\n",
    "    long = long_degree - long_seconds/60\n",
    "\n",
    "print(f'{lat}, {long}')"
   ]
  },
  {
   "cell_type": "code",
   "execution_count": 41,
   "metadata": {},
   "outputs": [
    {
     "name": "stdout",
     "output_type": "stream",
     "text": [
      "-3.199999999736747e-05 -2.800000000036107e-05\n"
     ]
    }
   ],
   "source": [
    "x_lat =  41.939625 - 41.939657\n",
    "x_long = -88.774543 - -88.774515\n",
    "print(x_lat,x_long)"
   ]
  }
 ],
 "metadata": {
  "interpreter": {
   "hash": "85533c7e7df405b03c96da8bc66ffb6bdf66a9733ad7fa16ee30ab4cd68c8d1e"
  },
  "kernelspec": {
   "display_name": "Python 3.9.9 64-bit",
   "language": "python",
   "name": "python3"
  },
  "language_info": {
   "codemirror_mode": {
    "name": "ipython",
    "version": 3
   },
   "file_extension": ".py",
   "mimetype": "text/x-python",
   "name": "python",
   "nbconvert_exporter": "python",
   "pygments_lexer": "ipython3",
   "version": "3.9.9"
  },
  "orig_nbformat": 4
 },
 "nbformat": 4,
 "nbformat_minor": 2
}
